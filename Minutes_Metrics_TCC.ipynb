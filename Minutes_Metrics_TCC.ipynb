{
  "nbformat": 4,
  "nbformat_minor": 0,
  "metadata": {
    "colab": {
      "provenance": [],
      "authorship_tag": "ABX9TyPm9mgH82lAlngM/b40iAXw",
      "include_colab_link": true
    },
    "kernelspec": {
      "name": "python3",
      "display_name": "Python 3"
    },
    "language_info": {
      "name": "python"
    }
  },
  "cells": [
    {
      "cell_type": "markdown",
      "metadata": {
        "id": "view-in-github",
        "colab_type": "text"
      },
      "source": [
        "<a href=\"https://colab.research.google.com/github/Felipe-Moreira-Sa/agrofit/blob/main/Minutes_Metrics_TCC.ipynb\" target=\"_parent\"><img src=\"https://colab.research.google.com/assets/colab-badge.svg\" alt=\"Open In Colab\"/></a>"
      ]
    },
    {
      "cell_type": "code",
      "source": [],
      "metadata": {
        "id": "MXUljrCLL88X"
      },
      "execution_count": null,
      "outputs": []
    },
    {
      "cell_type": "code",
      "execution_count": null,
      "metadata": {
        "id": "4-eYMwMQKTxo",
        "outputId": "b0cb8e77-2724-421c-c82a-3c2565869235",
        "colab": {
          "base_uri": "https://localhost:8080/"
        }
      },
      "outputs": [
        {
          "output_type": "stream",
          "name": "stderr",
          "text": [
            "/usr/local/lib/python3.10/dist-packages/yfinance/base.py:48: FutureWarning: The default dtype for empty Series will be 'object' instead of 'float64' in a future version. Specify a dtype explicitly to silence this warning.\n",
            "  _empty_series = pd.Series()\n"
          ]
        }
      ],
      "source": [
        "import yfinance as yf\n",
        "from sklearn.model_selection import train_test_split\n",
        "from sklearn.preprocessing import StandardScaler\n",
        "from sklearn.ensemble import RandomForestClassifier, AdaBoostClassifier\n",
        "from sklearn.svm import SVC\n",
        "from sklearn.naive_bayes import GaussianNB\n",
        "from sklearn.metrics import classification_report\n",
        "from pandas.tseries.offsets import BDay\n",
        "import pandas as pd\n",
        "from datetime import datetime\n",
        "\n",
        "# Funções download_data e prepare_data permanecem as mesmas\n",
        "\n",
        "def train_and_evaluate_models(X_train, X_test, y_train, y_test):\n",
        "    models = {\n",
        "        \"Random Forest\": RandomForestClassifier(n_estimators=100, random_state=42),\n",
        "        \"SVM\": SVC(kernel='rbf'),\n",
        "        \"Naive Bayes\": GaussianNB(),\n",
        "        \"AdaBoost\": AdaBoostClassifier()\n",
        "    }\n",
        "    results = {}\n",
        "    for name, model in models.items():\n",
        "        model.fit(X_train, y_train)\n",
        "        predictions = model.predict(X_test)\n",
        "        report = classification_report(y_test, predictions, output_dict=True)\n",
        "        results[name] = report\n",
        "    return results\n",
        "\n",
        "def run_stock_prediction(symbols, training_days_list, test_minutes_list):\n",
        "    results = []\n",
        "    end_date = datetime.now()\n",
        "\n",
        "    for symbol in symbols:\n",
        "        for training_days in training_days_list:\n",
        "            data = download_data(symbol, training_days)\n",
        "            if len(data) < 2:\n",
        "                continue\n",
        "\n",
        "            X, y = prepare_data(data)\n",
        "            for test_minutes in test_minutes_list:\n",
        "                test_size = test_minutes / len(data)\n",
        "                X_train, X_test, y_train, y_test = train_test_split(X, y, test_size=test_size, random_state=101)\n",
        "                scaler = StandardScaler()\n",
        "                X_train_scaled = scaler.fit_transform(X_train)\n",
        "                X_test_scaled = scaler.transform(X_test)\n",
        "\n",
        "                model_results = train_and_evaluate_models(X_train_scaled, X_test_scaled, y_train, y_test)\n",
        "                for model_name, report in model_results.items():\n",
        "                    results.append({\n",
        "                        \"Ticker\": symbol,\n",
        "                        \"Minutos\": training_days * 24 * 60,  # Convertendo dias em minutos\n",
        "                        \"Periodo\": test_minutes,\n",
        "                        \"Modelo\": model_name,\n",
        "                        \"Acurácia\": report['accuracy'],\n",
        "                        \"Precisão\": report['macro avg']['precision'],\n",
        "                        \"Recall\": report['macro avg']['recall'],\n",
        "                        \"F1-Score\": report['macro avg']['f1-score']\n",
        "                    })\n",
        "\n",
        "    return pd.DataFrame(results)"
      ]
    },
    {
      "cell_type": "code",
      "source": [
        "symbols = ['PETR4.SA', 'ITUB4.SA', 'BOVA11.SA']\n",
        "training_days_list = [4, 5, 6]\n",
        "test_minutes_list = [30, 60, 90]\n",
        "\n",
        "results_df = run_stock_prediction(symbols, training_days_list, test_minutes_list)\n",
        "display(results_df)"
      ],
      "metadata": {
        "colab": {
          "base_uri": "https://localhost:8080/",
          "height": 366
        },
        "id": "ApyQpBm6M7je",
        "outputId": "f7e6e6e2-072d-40b6-c760-977fc2616e00"
      },
      "execution_count": null,
      "outputs": [
        {
          "output_type": "error",
          "ename": "NameError",
          "evalue": "name 'download_data' is not defined",
          "traceback": [
            "\u001b[0;31m---------------------------------------------------------------------------\u001b[0m",
            "\u001b[0;31mNameError\u001b[0m                                 Traceback (most recent call last)",
            "\u001b[0;32m<ipython-input-2-f0c7985927c1>\u001b[0m in \u001b[0;36m<cell line: 5>\u001b[0;34m()\u001b[0m\n\u001b[1;32m      3\u001b[0m \u001b[0mtest_minutes_list\u001b[0m \u001b[0;34m=\u001b[0m \u001b[0;34m[\u001b[0m\u001b[0;36m30\u001b[0m\u001b[0;34m,\u001b[0m \u001b[0;36m60\u001b[0m\u001b[0;34m,\u001b[0m \u001b[0;36m90\u001b[0m\u001b[0;34m]\u001b[0m\u001b[0;34m\u001b[0m\u001b[0;34m\u001b[0m\u001b[0m\n\u001b[1;32m      4\u001b[0m \u001b[0;34m\u001b[0m\u001b[0m\n\u001b[0;32m----> 5\u001b[0;31m \u001b[0mresults_df\u001b[0m \u001b[0;34m=\u001b[0m \u001b[0mrun_stock_prediction\u001b[0m\u001b[0;34m(\u001b[0m\u001b[0msymbols\u001b[0m\u001b[0;34m,\u001b[0m \u001b[0mtraining_days_list\u001b[0m\u001b[0;34m,\u001b[0m \u001b[0mtest_minutes_list\u001b[0m\u001b[0;34m)\u001b[0m\u001b[0;34m\u001b[0m\u001b[0;34m\u001b[0m\u001b[0m\n\u001b[0m\u001b[1;32m      6\u001b[0m \u001b[0mdisplay\u001b[0m\u001b[0;34m(\u001b[0m\u001b[0mresults_df\u001b[0m\u001b[0;34m)\u001b[0m\u001b[0;34m\u001b[0m\u001b[0;34m\u001b[0m\u001b[0m\n",
            "\u001b[0;32m<ipython-input-1-22190e25e440>\u001b[0m in \u001b[0;36mrun_stock_prediction\u001b[0;34m(symbols, training_days_list, test_minutes_list)\u001b[0m\n\u001b[1;32m     33\u001b[0m     \u001b[0;32mfor\u001b[0m \u001b[0msymbol\u001b[0m \u001b[0;32min\u001b[0m \u001b[0msymbols\u001b[0m\u001b[0;34m:\u001b[0m\u001b[0;34m\u001b[0m\u001b[0;34m\u001b[0m\u001b[0m\n\u001b[1;32m     34\u001b[0m         \u001b[0;32mfor\u001b[0m \u001b[0mtraining_days\u001b[0m \u001b[0;32min\u001b[0m \u001b[0mtraining_days_list\u001b[0m\u001b[0;34m:\u001b[0m\u001b[0;34m\u001b[0m\u001b[0;34m\u001b[0m\u001b[0m\n\u001b[0;32m---> 35\u001b[0;31m             \u001b[0mdata\u001b[0m \u001b[0;34m=\u001b[0m \u001b[0mdownload_data\u001b[0m\u001b[0;34m(\u001b[0m\u001b[0msymbol\u001b[0m\u001b[0;34m,\u001b[0m \u001b[0mtraining_days\u001b[0m\u001b[0;34m)\u001b[0m\u001b[0;34m\u001b[0m\u001b[0;34m\u001b[0m\u001b[0m\n\u001b[0m\u001b[1;32m     36\u001b[0m             \u001b[0;32mif\u001b[0m \u001b[0mlen\u001b[0m\u001b[0;34m(\u001b[0m\u001b[0mdata\u001b[0m\u001b[0;34m)\u001b[0m \u001b[0;34m<\u001b[0m \u001b[0;36m2\u001b[0m\u001b[0;34m:\u001b[0m\u001b[0;34m\u001b[0m\u001b[0;34m\u001b[0m\u001b[0m\n\u001b[1;32m     37\u001b[0m                 \u001b[0;32mcontinue\u001b[0m\u001b[0;34m\u001b[0m\u001b[0;34m\u001b[0m\u001b[0m\n",
            "\u001b[0;31mNameError\u001b[0m: name 'download_data' is not defined"
          ]
        }
      ]
    },
    {
      "cell_type": "code",
      "source": [
        "def convert_decimal_point_to_comma(x):\n",
        "    if isinstance(x, float):\n",
        "        return f\"{x:.2f}\".replace('.', ',')\n",
        "    return x\n",
        "\n",
        "formatted_results_df = results_df.applymap(convert_decimal_point_to_comma)\n",
        "display(formatted_results_df)\n"
      ],
      "metadata": {
        "id": "5526Gn4VIqda"
      },
      "execution_count": null,
      "outputs": []
    },
    {
      "cell_type": "code",
      "source": [
        "from google.colab import files\n",
        "\n",
        "# Supondo que 'results_df' seja o seu DataFrame\n",
        "formatted_results_df.to_csv('stock_predictions.csv', index=False)\n",
        "\n",
        "# Baixar o arquivo CSV no seu computador\n",
        "files.download('stock_predictions.csv')\n"
      ],
      "metadata": {
        "id": "AN9RF91zful3"
      },
      "execution_count": null,
      "outputs": []
    }
  ]
}